{
 "cells": [
  {
   "cell_type": "markdown",
   "id": "34655de8",
   "metadata": {},
   "source": [
    "## 과제 수행자: 이세현\n",
    "\n",
    "## 학번: 2025178869"
   ]
  },
  {
   "cell_type": "markdown",
   "id": "d3353eb3",
   "metadata": {},
   "source": [
    "## Class"
   ]
  },
  {
   "cell_type": "code",
   "execution_count": 1,
   "id": "50e4e987",
   "metadata": {},
   "outputs": [
    {
     "name": "stdout",
     "output_type": "stream",
     "text": [
      "3\n",
      "7\n"
     ]
    }
   ],
   "source": [
    "result = 0\n",
    "\n",
    "def adder(num):\n",
    "    global result\n",
    "    result += num\n",
    "    return result\n",
    "\n",
    "print(adder(3))\n",
    "print(adder(4))\n"
   ]
  },
  {
   "cell_type": "code",
   "execution_count": 2,
   "id": "f399bbc3",
   "metadata": {},
   "outputs": [
    {
     "name": "stdout",
     "output_type": "stream",
     "text": [
      "11\n",
      "16\n"
     ]
    }
   ],
   "source": [
    "print(adder(4))\n",
    "print(adder(5))"
   ]
  },
  {
   "cell_type": "code",
   "execution_count": 3,
   "id": "bbf6b274",
   "metadata": {},
   "outputs": [
    {
     "name": "stdout",
     "output_type": "stream",
     "text": [
      "3\n",
      "7\n",
      "3\n",
      "10\n"
     ]
    }
   ],
   "source": [
    "#계산기 2개 필요\n",
    "result1 = 0\n",
    "result2 = 0\n",
    "\n",
    "def adder1(num):\n",
    "    global result1\n",
    "    result1 += num\n",
    "    return result1\n",
    "\n",
    "def adder2(num):\n",
    "    global result2\n",
    "    result2 += num\n",
    "    return result2\n",
    "\n",
    "print(adder1(3))\n",
    "print(adder1(4))\n",
    "print(adder2(3))\n",
    "print(adder2(7))\n"
   ]
  },
  {
   "cell_type": "code",
   "execution_count": 4,
   "id": "0077488d",
   "metadata": {},
   "outputs": [
    {
     "name": "stdout",
     "output_type": "stream",
     "text": [
      "3\n",
      "7\n",
      "3\n",
      "10\n"
     ]
    }
   ],
   "source": [
    "# 클래스 사용, 계산기 객체 여러 개 생성\n",
    "class Calculator:\n",
    "    def __init__(self):\n",
    "        self.result = 0\n",
    "\n",
    "    def adder(self, num):\n",
    "        self.result += num\n",
    "        return self.result\n",
    "\n",
    "\n",
    "cal1 = Calculator()\n",
    "cal2 = Calculator()\n",
    "\n",
    "print(cal1.adder(3))\n",
    "print(cal1.adder(4))\n",
    "print(cal2.adder(3))\n",
    "print(cal2.adder(7))\n"
   ]
  },
  {
   "cell_type": "code",
   "execution_count": 5,
   "id": "0c26b8a8",
   "metadata": {},
   "outputs": [],
   "source": [
    "class Service:\n",
    "    secret = \"지구는 4006년에 멸망한다.\""
   ]
  },
  {
   "cell_type": "code",
   "execution_count": 6,
   "id": "5acd48bb",
   "metadata": {},
   "outputs": [],
   "source": [
    "an = Service()"
   ]
  },
  {
   "cell_type": "code",
   "execution_count": 8,
   "id": "6585762e",
   "metadata": {},
   "outputs": [
    {
     "data": {
      "text/plain": [
       "'지구는 4006년에 멸망한다.'"
      ]
     },
     "execution_count": 8,
     "metadata": {},
     "output_type": "execute_result"
    }
   ],
   "source": [
    "an.secret"
   ]
  },
  {
   "cell_type": "code",
   "execution_count": 9,
   "id": "b9a52bae",
   "metadata": {},
   "outputs": [
    {
     "data": {
      "text/plain": [
       "'지구는 4006년에 멸망한다.'"
      ]
     },
     "execution_count": 9,
     "metadata": {},
     "output_type": "execute_result"
    }
   ],
   "source": [
    "Service.secret"
   ]
  },
  {
   "cell_type": "code",
   "execution_count": 10,
   "id": "f6de79b2",
   "metadata": {},
   "outputs": [],
   "source": [
    "Service.secret='지구가 4006년에 멸망하다는 사실은 뻥이다'"
   ]
  },
  {
   "cell_type": "code",
   "execution_count": 11,
   "id": "36fc6049",
   "metadata": {},
   "outputs": [
    {
     "name": "stdout",
     "output_type": "stream",
     "text": [
      "지구가 4006년에 멸망하다는 사실은 뻥이다\n"
     ]
    }
   ],
   "source": [
    "print(an.secret)"
   ]
  },
  {
   "cell_type": "code",
   "execution_count": 12,
   "id": "bb7558ba",
   "metadata": {},
   "outputs": [
    {
     "name": "stdout",
     "output_type": "stream",
     "text": [
      "1 + 1 = 2이다.\n"
     ]
    }
   ],
   "source": [
    "#method\n",
    "class Service:\n",
    "    secret = \"지구는 4006년에 멸망한다\"\n",
    "\n",
    "    def sum(self, a, b):\n",
    "        result = a + b\n",
    "        print(\"%s + %s = %s이다.\" % (a, b, result))\n",
    "\n",
    "\n",
    "an = Service()\n",
    "an.sum(1, 1)\n"
   ]
  },
  {
   "cell_type": "code",
   "execution_count": 13,
   "id": "2db909db",
   "metadata": {},
   "outputs": [
    {
     "name": "stdout",
     "output_type": "stream",
     "text": [
      "박달도사님, 1 + 1 = 2입니다.\n"
     ]
    }
   ],
   "source": [
    "# service 클래스 업그레이드\n",
    "class Service:\n",
    "    secret = \"지구는 4006년에 멸망한다\"\n",
    "\n",
    "    def setname(self, name):\n",
    "        self.name = name\n",
    "\n",
    "    def sum(self, a, b):\n",
    "        result = a + b\n",
    "        print(\"%s님, %s + %s = %s입니다.\" % (self.name, a, b, result))\n",
    "\n",
    "\n",
    "an = Service()\n",
    "an.setname(\"박달도사\")\n",
    "an.sum(1, 1)\n"
   ]
  },
  {
   "cell_type": "code",
   "execution_count": 14,
   "id": "c4ece608",
   "metadata": {},
   "outputs": [
    {
     "name": "stdout",
     "output_type": "stream",
     "text": [
      "김정보\n",
      "박용합\n",
      "지구는 4006년에 멸망한다\n",
      "비밀은 없다\n",
      "지구는 4006년에 멸망한다\n"
     ]
    }
   ],
   "source": [
    "# 인스턴스 생성\n",
    "kim = Service()\n",
    "park = Service()\n",
    "\n",
    "# 인스턴스별 개별 속성 설정\n",
    "kim.name = \"김정보\"\n",
    "park.name = \"박용합\"\n",
    "\n",
    "print(kim.name)   # → 김정보\n",
    "print(park.name)  # → 박용합\n",
    "\n",
    "# 특정 인스턴스에서 클래스 변수 shadowing\n",
    "kim.secret = \"비밀은 없다\"\n",
    "\n",
    "print(park.secret)   # → 지구는 4006년에 멸망한다\n",
    "print(kim.secret)    # → 비밀은 없다\n",
    "\n",
    "# 여전히 클래스 변수는 그대로\n",
    "print(Service.secret)  # → 지구는 4006년에 멸망한다\n"
   ]
  },
  {
   "cell_type": "code",
   "execution_count": 15,
   "id": "7529aa38",
   "metadata": {},
   "outputs": [
    {
     "ename": "AttributeError",
     "evalue": "'Service' object has no attribute 'name'",
     "output_type": "error",
     "traceback": [
      "\u001b[0;31m---------------------------------------------------------------------------\u001b[0m",
      "\u001b[0;31mAttributeError\u001b[0m                            Traceback (most recent call last)",
      "Cell \u001b[0;32mIn [15], line 2\u001b[0m\n\u001b[1;32m      1\u001b[0m lee \u001b[38;5;241m=\u001b[39m Service()\n\u001b[0;32m----> 2\u001b[0m lee\u001b[38;5;241m.\u001b[39msum(\u001b[38;5;241m1\u001b[39m, \u001b[38;5;241m1\u001b[39m)\n",
      "Cell \u001b[0;32mIn [13], line 10\u001b[0m, in \u001b[0;36mService.sum\u001b[0;34m(self, a, b)\u001b[0m\n\u001b[1;32m      8\u001b[0m \u001b[38;5;28;01mdef\u001b[39;00m \u001b[38;5;21msum\u001b[39m(\u001b[38;5;28mself\u001b[39m, a, b):\n\u001b[1;32m      9\u001b[0m     result \u001b[38;5;241m=\u001b[39m a \u001b[38;5;241m+\u001b[39m b\n\u001b[0;32m---> 10\u001b[0m     \u001b[38;5;28mprint\u001b[39m(\u001b[38;5;124m\"\u001b[39m\u001b[38;5;132;01m%s\u001b[39;00m\u001b[38;5;124m님, \u001b[39m\u001b[38;5;132;01m%s\u001b[39;00m\u001b[38;5;124m + \u001b[39m\u001b[38;5;132;01m%s\u001b[39;00m\u001b[38;5;124m = \u001b[39m\u001b[38;5;132;01m%s\u001b[39;00m\u001b[38;5;124m입니다.\u001b[39m\u001b[38;5;124m\"\u001b[39m \u001b[38;5;241m%\u001b[39m (\u001b[38;5;28;43mself\u001b[39;49m\u001b[38;5;241;43m.\u001b[39;49m\u001b[43mname\u001b[49m, a, b, result))\n",
      "\u001b[0;31mAttributeError\u001b[0m: 'Service' object has no attribute 'name'"
     ]
    }
   ],
   "source": [
    "lee = Service()\n",
    "lee.sum(1, 1)  # AttributeError: 'Service' object has no attribute 'name'\n"
   ]
  },
  {
   "cell_type": "code",
   "execution_count": 16,
   "id": "19eaca19",
   "metadata": {},
   "outputs": [
    {
     "name": "stdout",
     "output_type": "stream",
     "text": [
      "박달도사님, 1 + 1 = 2입니다.\n"
     ]
    }
   ],
   "source": [
    "class Service:\n",
    "    secret = \"지구는 4006년에 멸망한다\"\n",
    "\n",
    "    def __init__(self, name):\n",
    "        self.name = name\n",
    "\n",
    "    def sum(self, a, b):\n",
    "        result = a + b\n",
    "        print(\"%s님, %s + %s = %s입니다.\" % (self.name, a, b, result))\n",
    "\n",
    "\n",
    "an = Service(\"박달도사\")\n",
    "an.sum(1, 1)\n"
   ]
  },
  {
   "cell_type": "code",
   "execution_count": 18,
   "id": "a9d660c0",
   "metadata": {},
   "outputs": [
    {
     "data": {
      "text/plain": [
       "__main__.FourCal"
      ]
     },
     "execution_count": 18,
     "metadata": {},
     "output_type": "execute_result"
    }
   ],
   "source": [
    "class FourCal:\n",
    "    pass\n",
    "\n",
    "\n",
    "a = FourCal()\n",
    "type(a)  # <class '__main__.FourCal'>\n"
   ]
  },
  {
   "cell_type": "code",
   "execution_count": 19,
   "id": "93940221",
   "metadata": {},
   "outputs": [
    {
     "name": "stdout",
     "output_type": "stream",
     "text": [
      "4\n",
      "2\n"
     ]
    }
   ],
   "source": [
    "class FourCal:\n",
    "    def setdata(self, first, second):\n",
    "        self.first = first\n",
    "        self.second = second\n",
    "\n",
    "\n",
    "a = FourCal()\n",
    "a.setdata(4, 2)\n",
    "\n",
    "print(a.first)   # 4\n",
    "print(a.second)  # 2\n"
   ]
  },
  {
   "cell_type": "code",
   "execution_count": 20,
   "id": "e3e92f4d",
   "metadata": {},
   "outputs": [
    {
     "name": "stdout",
     "output_type": "stream",
     "text": [
      "6\n"
     ]
    }
   ],
   "source": [
    "class FourCal:\n",
    "    def setdata(self, first, second):\n",
    "        self.first = first\n",
    "        self.second = second\n",
    "\n",
    "    def sum(self):\n",
    "        result = self.first + self.second\n",
    "        return result\n",
    "\n",
    "\n",
    "a = FourCal()\n",
    "a.setdata(4, 2)\n",
    "\n",
    "print(a.sum())  # 6\n"
   ]
  },
  {
   "cell_type": "code",
   "execution_count": 21,
   "id": "ad4716aa",
   "metadata": {},
   "outputs": [
    {
     "name": "stdout",
     "output_type": "stream",
     "text": [
      "6\n",
      "8\n",
      "2\n",
      "2.0\n",
      "-4\n"
     ]
    }
   ],
   "source": [
    "class FourCal:\n",
    "    def setdata(self, first, second):\n",
    "        self.first = first\n",
    "        self.second = second\n",
    "\n",
    "    def sum(self):\n",
    "        return self.first + self.second\n",
    "\n",
    "    def mul(self):\n",
    "        return self.first * self.second\n",
    "\n",
    "    def sub(self):\n",
    "        return self.first - self.second\n",
    "\n",
    "    def div(self):\n",
    "        return self.first / self.second\n",
    "\n",
    "\n",
    "a = FourCal()\n",
    "b = FourCal()\n",
    "\n",
    "a.setdata(4, 2)\n",
    "b.setdata(3, 7)\n",
    "\n",
    "print(a.sum())  # 6\n",
    "print(a.mul())  # 8\n",
    "print(a.sub())  # 2\n",
    "print(a.div())  # 2.0\n",
    "print(b.sub())  # -4\n"
   ]
  },
  {
   "cell_type": "markdown",
   "id": "3d5ca347",
   "metadata": {},
   "source": [
    "**간단한 주사위 게임**\n",
    "- 순차적 프로그래밍"
   ]
  },
  {
   "cell_type": "code",
   "execution_count": 22,
   "id": "326be66b",
   "metadata": {},
   "outputs": [
    {
     "name": "stdout",
     "output_type": "stream",
     "text": [
      "Player 1 rolled [6, 4, 4]\n",
      "Player 2 rolled [5, 3, 3]\n",
      "Player 1 wins\n"
     ]
    }
   ],
   "source": [
    "import random\n",
    "\n",
    "player1_dice = []\n",
    "player2_dice = []\n",
    "\n",
    "for _ in range(3):\n",
    "    player1_dice.append(random.randint(1, 6))\n",
    "    player2_dice.append(random.randint(1, 6))\n",
    "\n",
    "print(\"Player 1 rolled \" + str(player1_dice))\n",
    "print(\"Player 2 rolled \" + str(player2_dice))\n",
    "\n",
    "if sum(player1_dice) == sum(player2_dice):\n",
    "    print(\"Draw\")\n",
    "elif sum(player1_dice) > sum(player2_dice):\n",
    "    print(\"Player 1 wins\")\n",
    "else:\n",
    "    print(\"Player 2 wins\")\n"
   ]
  },
  {
   "cell_type": "markdown",
   "id": "f209d8b4",
   "metadata": {},
   "source": [
    "**간단한 주사위 게임-OOP**"
   ]
  },
  {
   "cell_type": "code",
   "execution_count": 23,
   "id": "e2193e50",
   "metadata": {},
   "outputs": [
    {
     "name": "stdout",
     "output_type": "stream",
     "text": [
      "Player 1 rolled [3, 6, 3]\n",
      "Player 2 rolled [4, 5, 6]\n",
      "Player 2 wins!\n"
     ]
    }
   ],
   "source": [
    "from random import randint\n",
    "\n",
    "\n",
    "class Player:\n",
    "    def __init__(self):\n",
    "        self.dice = []\n",
    "\n",
    "    def roll(self):\n",
    "        self.dice = []  # reset dice each round\n",
    "        for _ in range(3):\n",
    "            self.dice.append(randint(1, 6))\n",
    "\n",
    "    def get_dice(self):\n",
    "        return self.dice\n",
    "\n",
    "\n",
    "player1 = Player()\n",
    "player2 = Player()\n",
    "\n",
    "player1.roll()\n",
    "player2.roll()\n",
    "\n",
    "print(\"Player 1 rolled \" + str(player1.get_dice()))\n",
    "print(\"Player 2 rolled \" + str(player2.get_dice()))\n",
    "\n",
    "if sum(player1.get_dice()) == sum(player2.get_dice()):\n",
    "    print(\"Draw!\")\n",
    "elif sum(player1.get_dice()) > sum(player2.get_dice()):\n",
    "    print(\"Player 1 wins!\")\n",
    "else:\n",
    "    print(\"Player 2 wins!\")\n"
   ]
  },
  {
   "cell_type": "code",
   "execution_count": null,
   "id": "08eb848c",
   "metadata": {},
   "outputs": [],
   "source": []
  }
 ],
 "metadata": {
  "kernelspec": {
   "display_name": "Python 3 (ipykernel)",
   "language": "python",
   "name": "python3"
  },
  "language_info": {
   "codemirror_mode": {
    "name": "ipython",
    "version": 3
   },
   "file_extension": ".py",
   "mimetype": "text/x-python",
   "name": "python",
   "nbconvert_exporter": "python",
   "pygments_lexer": "ipython3",
   "version": "3.8.13"
  }
 },
 "nbformat": 4,
 "nbformat_minor": 5
}
