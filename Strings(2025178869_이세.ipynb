{
 "cells": [
  {
   "cell_type": "markdown",
   "metadata": {},
   "source": [
    "<h2 id=\"Exercise\">Exercise Strings 1</h2>"
   ]
  },
  {
   "cell_type": "markdown",
   "metadata": {},
   "source": [
    "What is the value of the variable <code>A</code> after the following code is executed? \n",
    "\n",
    "What is the value of the variable <code>B</code> after the following code is executed?\n",
    "\n",
    "What is the value of the variable <code>C</code> after the following code is executed?\n",
    "\n",
    "\n",
    "Consider the variable <code>D</code> use slicing to print out the first three elements:\n",
    "\n",
    "\n",
    "Use a stride value of 2 to print out every second character of the string <code>E</code>: \n",
    "\n",
    "Convert the variable <code>F</code> to uppercase:\n",
    "\n",
    "\n",
    "Consider the variable <code>G</code>, and find the first index of the sub-string <code>snow</code>:\n",
    "\n",
    "In the variable <code>G</code>, replace the sub-string <code>Mary</code> with <code>Bob</code>:"
   ]
  },
  {
   "cell_type": "code",
   "execution_count": 4,
   "metadata": {},
   "outputs": [
    {
     "name": "stdout",
     "output_type": "stream",
     "text": [
      "12\n",
      "ABC\n",
      "correct\n",
      "YOU ARE WRONG\n",
      "95\n",
      "Bob had a little lamb Little lamb, little lamb Bob had a little lamb Its fleece was white as snow And everywhere that Bob went Bob went, Bob went Everywhere that Bob went The lamb was sure to go\n"
     ]
    }
   ],
   "source": [
    "A = \"1\"\n",
    "B = \"2\"\n",
    "C = A + B\n",
    "print(C)  # \"12\"\n",
    "\n",
    "D = \"ABCDEFG\"\n",
    "print(D[:3])  # \"ABC\"\n",
    "\n",
    "E = 'clocrkr1e1c1t'\n",
    "print(E[::2])  # \"correct\"\n",
    "\n",
    "F = \"You are wrong\"\n",
    "print(F.upper())  # \"YOU ARE WRONG\"\n",
    "\n",
    "G = \"Mary had a little lamb Little lamb, little lamb Mary had a little lamb \\\n",
    "Its fleece was white as snow And everywhere that Mary went Mary went, Mary went \\\n",
    "Everywhere that Mary went The lamb was sure to go\"\n",
    "\n",
    "print(G.find(\"snow\"))  # 95\n",
    "print(G.replace(\"Mary\", \"Bob\"))  # \"Mary\" -> \"Bob\"\n"
   ]
  },
  {
   "cell_type": "markdown",
   "metadata": {},
   "source": [
    "<hr>\n",
    "<h2>The last exercise!</h2>\n",
    "<p>Congratulations, you have completed your first lesson and hands-on lab in Python. However, there is one more thing you need to do. The Data Science community encourages sharing work. The best way to share and showcase your work is to share it on GitHub. By sharing your notebook on GitHub you are not only building your reputation with fellow data scientists, but you can also show it off when applying for a job. Even though this was your first piece of work, it is never too early to start building good habits. Please submit all your exercises to Github & let the traces in our LMS, so for me to access your work.\n",
    "<hr>"
   ]
  },
  {
   "cell_type": "markdown",
   "metadata": {},
   "source": []
  }
 ],
 "metadata": {
  "kernelspec": {
   "display_name": "krc",
   "language": "python",
   "name": "python3"
  },
  "language_info": {
   "codemirror_mode": {
    "name": "ipython",
    "version": 3
   },
   "file_extension": ".py",
   "mimetype": "text/x-python",
   "name": "python",
   "nbconvert_exporter": "python",
   "pygments_lexer": "ipython3",
   "version": "3.8.13"
  }
 },
 "nbformat": 4,
 "nbformat_minor": 2
}
